{
 "cells": [
  {
   "cell_type": "code",
   "execution_count": 1,
   "id": "282aa4c5",
   "metadata": {},
   "outputs": [],
   "source": [
    "# Import packages and set OPENAI Key access\n",
    "import nltk\n",
    "import json\n",
    "#import langchain as lc\n",
    "from getpass import getpass\n",
    "import os\n",
    "from langchain.chat_models import ChatOpenAI\n",
    "#from langchain.chains import create_extraction_chain\n",
    "from langchain.schema import (\n",
    "    AIMessage,\n",
    "    HumanMessage,\n",
    "    SystemMessage\n",
    ")\n",
    "\n",
    "OPENAI_API_KEY = os.environ['OPENAI_API_KEY']\n",
    "OPENAI_ORGANIZATION = os.environ['OPENAI_ORGANIZATION']\n",
    "chatGPT4 = ChatOpenAI(openai_api_key=OPENAI_API_KEY, openai_organization= OPENAI_ORGANIZATION, temperature=0, model=\"gpt-4\")\n",
    "chatGPT35 = ChatOpenAI(openai_api_key=OPENAI_API_KEY, openai_organization= OPENAI_ORGANIZATION, temperature=0, model=\"gpt-3.5-turbo\")\n"
   ]
  },
  {
   "cell_type": "code",
   "execution_count": 2,
   "id": "ba608592",
   "metadata": {},
   "outputs": [],
   "source": [
    "# Load 1st set of Promed data\n",
    "D1 = json.load(open('../../WHO_DON/Data/ProMED/promed_1.json'))"
   ]
  },
  {
   "cell_type": "code",
   "execution_count": 3,
   "id": "3b844ae3",
   "metadata": {},
   "outputs": [
    {
     "name": "stdout",
     "output_type": "stream",
     "text": [
      "Published Date: 2007-03-21 18:00:01 EDT\n",
      "Subject: PRO/AH/EDR> Avian influenza (57): Kuwait, Myanmar\n",
      "Archive Number: 20070321.1000\n",
      "Published Date: 2007-11-30 08:00:21 EST\n",
      "Subject: PRO/AH/EDR> Undiagnosed deaths - Zambia (02): pneumonic plague susp.\n",
      "Archive Number: 20071130.3862\n",
      "Published Date: 2005-02-10 18:50:00 EST\n",
      "Subject: PRO/PL> Soybean rust, dry beans - South Africa\n",
      "Archive Number: 20050210.0452\n",
      "Published Date: 2004-04-08 19:50:00 EDT\n",
      "Subject: PRO/EDR> Gastroenteritis, fatal - Zambia: RFI\n",
      "Archive Number: 20040408.0954\n"
     ]
    }
   ],
   "source": [
    "# Headers that demonstrate that the extrations can't be made by parsing as the disease outbreak location is not \n",
    "# always at the same position. Need to use LLMs\n",
    "import numpy as np\n",
    "print(D1[0]['header'][0])\n",
    "print(D1[22]['header'][0])\n",
    "print(D1[100]['header'][0])\n",
    "print(D1[25]['header'][0])\n"
   ]
  },
  {
   "cell_type": "code",
   "execution_count": 41,
   "id": "3eaab918",
   "metadata": {},
   "outputs": [
    {
     "data": {
      "text/plain": [
       "[{'disease outbreak': 'Undiagnosed die-off, hare - UK (02): (England) myxomatosis susp'}]"
      ]
     },
     "execution_count": 41,
     "metadata": {},
     "output_type": "execute_result"
    }
   ],
   "source": [
    "# ##Approach 1\n",
    "# from langchain.chat_models import ChatOpenAI\n",
    "# from langchain.chains import create_extraction_chain\n",
    "# schema = {\n",
    "#     \"properties\": {\n",
    "#         \"disease outbreak\": {\"type\": \"string\"},\n",
    "#     },\n",
    "#     \"required\": [\"disease outbreak\"],\n",
    "# }\n",
    "\n",
    "# # Input \n",
    "# inp = \"Published Date: 2018-10-17 08:11:34 EDT Subject: PRO/AH/EDR> Undiagnosed die-off, hare - UK (02): (England) myxomatosis susp Archive Number: 20181017.6096127\"\n",
    "# # Run chain\n",
    "# # Use model=\"gpt-3.5-turbo\" for gpt 3.5. Its cheaper.\n",
    "# llm = ChatOpenAI(openai_api_key=OPENAI_API_KEY, temperature=0, model=\"gpt-4\")\n",
    "# chain = create_extraction_chain(schema, llm)\n",
    "# chain.run(inp)\n",
    "# #Didn't work well"
   ]
  },
  {
   "cell_type": "code",
   "execution_count": null,
   "id": "1d45b514",
   "metadata": {},
   "outputs": [],
   "source": [
    "# ## Example 2\n",
    "# inp = \"Published Date: 2018-09-30 07:04:05 EDT Subject: PRO/EDR> Meningitis, meningococcal - USA (02): (CA) college, sg B Archive Number: 20180930.6061362\"\n",
    "# llm = ChatOpenAI(openai_api_key=OPENAI_API_KEY, temperature=0, model=\"gpt-4\")\n",
    "# chain = create_extraction_chain(schema, llm)\n",
    "# chain.run(inp)"
   ]
  },
  {
   "cell_type": "code",
   "execution_count": 4,
   "id": "42bcff4a",
   "metadata": {},
   "outputs": [
    {
     "data": {
      "text/plain": [
       "AIMessage(content='myxomatosis', additional_kwargs={}, example=False)"
      ]
     },
     "execution_count": 4,
     "metadata": {},
     "output_type": "execute_result"
    }
   ],
   "source": [
    "# Approach 2\n",
    "inp = \"Published Date: 2018-10-17 08:11:34 EDT Subject: PRO/AH/EDR> Undiagnosed die-off, hare - UK (02): (England) myxomatosis susp Archive Number: 20181017.6096127\"\n",
    "#chat([HumanMessage(content=\"Extract the disease outbreak from the following text. Only output the outbreak name. If the outbreak is known by other names give a comma separated list:\" + D1[25]['header'][0])])\n",
    "chatGPT35([HumanMessage(content=\"Extract the disease outbreak from the following text. \" + \"Only output the outbreak name.\" + inp )])\n",
    "## This approach gives better results"
   ]
  },
  {
   "cell_type": "code",
   "execution_count": 46,
   "id": "dd737e2d",
   "metadata": {},
   "outputs": [
    {
     "data": {
      "text/plain": [
       "AIMessage(content='Meningitis, meningococcal', additional_kwargs={}, example=False)"
      ]
     },
     "execution_count": 46,
     "metadata": {},
     "output_type": "execute_result"
    }
   ],
   "source": [
    "# Example 2\n",
    "inp = \"Published Date: 2018-09-30 07:04:05 EDT Subject: PRO/EDR> Meningitis, meningococcal - USA (02): (CA) college, sg B Archive Number: 20180930.6061362\"\n",
    "chatGPT35([HumanMessage(content=\"Extract the disease outbreak from the following text. \" + \"Only output the outbreak name.\" + inp )])"
   ]
  },
  {
   "cell_type": "code",
   "execution_count": 37,
   "id": "658a0ead",
   "metadata": {},
   "outputs": [
    {
     "data": {
      "text/plain": [
       "AIMessage(content='1. COVID-19\\n2. Coronavirus\\n3. Novel coronavirus\\n4. Wuhan coronavirus\\n5. SARS-CoV-2 pandemic\\n6. The 2019 coronavirus outbreak\\n7. The global coronavirus crisis\\n8. The Great Lockdown\\n9. The COVID-19 pandemic', additional_kwargs={}, example=False)"
      ]
     },
     "execution_count": 37,
     "metadata": {},
     "output_type": "execute_result"
    }
   ],
   "source": [
    "# To see how good are LLMs for picking alternate names. Maybe not the best example.\n",
    "chat([HumanMessage(content=\"Give alternative names of the following disease outbreak with confidence:\" + \"Sars-CoV-2\")])"
   ]
  },
  {
   "cell_type": "code",
   "execution_count": 5,
   "id": "c1915b25",
   "metadata": {},
   "outputs": [],
   "source": [
    "xdata = np.array([(1, 2, 3), (4, 5, 6), (7, 8, 9)],\n",
    "                dtype=[(\"a\", \"i4\"), (\"b\", \"i4\"), (\"c\", \"i4\")])"
   ]
  },
  {
   "cell_type": "code",
   "execution_count": 19,
   "id": "5859d542",
   "metadata": {},
   "outputs": [
    {
     "ename": "TypeError",
     "evalue": "Field elements must be 2- or 3-tuples, got ''float64''",
     "output_type": "error",
     "traceback": [
      "\u001b[0;31m---------------------------------------------------------------------------\u001b[0m",
      "\u001b[0;31mTypeError\u001b[0m                                 Traceback (most recent call last)",
      "Input \u001b[0;32mIn [19]\u001b[0m, in \u001b[0;36m<cell line: 3>\u001b[0;34m()\u001b[0m\n\u001b[1;32m      1\u001b[0m \u001b[38;5;28;01mimport\u001b[39;00m \u001b[38;5;21;01mpandas\u001b[39;00m \u001b[38;5;28;01mas\u001b[39;00m \u001b[38;5;21;01mpd\u001b[39;00m\n\u001b[1;32m      2\u001b[0m \u001b[38;5;28;01mimport\u001b[39;00m \u001b[38;5;21;01mdatetime\u001b[39;00m\n\u001b[0;32m----> 3\u001b[0m df \u001b[38;5;241m=\u001b[39m \u001b[43mpd\u001b[49m\u001b[38;5;241;43m.\u001b[39;49m\u001b[43mDataFrame\u001b[49m\u001b[43m(\u001b[49m\u001b[43m{\u001b[49m\u001b[38;5;124;43m'\u001b[39;49m\u001b[38;5;124;43mfloa\u001b[39;49m\u001b[38;5;124;43m'\u001b[39;49m\u001b[43m:\u001b[49m\u001b[43m \u001b[49m\u001b[43m[\u001b[49m\u001b[38;5;241;43m1.0\u001b[39;49m\u001b[43m]\u001b[49m\u001b[43m,\u001b[49m\n\u001b[1;32m      4\u001b[0m \u001b[43m                   \u001b[49m\u001b[38;5;124;43m'\u001b[39;49m\u001b[38;5;124;43min\u001b[39;49m\u001b[38;5;124;43m'\u001b[39;49m\u001b[43m:\u001b[49m\u001b[43m \u001b[49m\u001b[43m[\u001b[49m\u001b[38;5;241;43m1\u001b[39;49m\u001b[43m]\u001b[49m\u001b[43m,\u001b[49m\n\u001b[1;32m      5\u001b[0m \u001b[43m                   \u001b[49m\u001b[38;5;124;43m'\u001b[39;49m\u001b[38;5;124;43mdatetim\u001b[39;49m\u001b[38;5;124;43m'\u001b[39;49m\u001b[43m:\u001b[49m\u001b[43m \u001b[49m\u001b[43m[\u001b[49m\u001b[43mpd\u001b[49m\u001b[38;5;241;43m.\u001b[39;49m\u001b[43mTimestamp\u001b[49m\u001b[43m(\u001b[49m\u001b[38;5;124;43m'\u001b[39;49m\u001b[38;5;124;43m20180310\u001b[39;49m\u001b[38;5;124;43m'\u001b[39;49m\u001b[43m)\u001b[49m\u001b[43m]\u001b[49m\u001b[43m,\u001b[49m\n\u001b[1;32m      6\u001b[0m \u001b[43m                   \u001b[49m\u001b[38;5;124;43m'\u001b[39;49m\u001b[38;5;124;43mstrin\u001b[39;49m\u001b[38;5;124;43m'\u001b[39;49m\u001b[43m:\u001b[49m\u001b[43m \u001b[49m\u001b[43m[\u001b[49m\u001b[38;5;124;43m'\u001b[39;49m\u001b[38;5;124;43mfoo\u001b[39;49m\u001b[38;5;124;43m'\u001b[39;49m\u001b[43m]\u001b[49m\u001b[43m}\u001b[49m\u001b[43m,\u001b[49m\u001b[43m \u001b[49m\u001b[43mdtype\u001b[49m\u001b[38;5;241;43m=\u001b[39;49m\u001b[43m[\u001b[49m\u001b[38;5;124;43m\"\u001b[39;49m\u001b[38;5;124;43mfloat64\u001b[39;49m\u001b[38;5;124;43m\"\u001b[39;49m\u001b[43m,\u001b[49m\u001b[43m \u001b[49m\u001b[38;5;124;43m\"\u001b[39;49m\u001b[38;5;124;43mint64\u001b[39;49m\u001b[38;5;124;43m\"\u001b[39;49m\u001b[43m,\u001b[49m\u001b[43m \u001b[49m\u001b[38;5;124;43m\"\u001b[39;49m\u001b[38;5;124;43mdatetime64[ns]\u001b[39;49m\u001b[38;5;124;43m\"\u001b[39;49m\u001b[43m,\u001b[49m\u001b[43m \u001b[49m\u001b[38;5;124;43m\"\u001b[39;49m\u001b[38;5;124;43mstring[pyarrow]\u001b[39;49m\u001b[38;5;124;43m\"\u001b[39;49m\u001b[43m]\u001b[49m\u001b[43m)\u001b[49m\n\u001b[1;32m      7\u001b[0m df\n\u001b[1;32m      8\u001b[0m dti \u001b[38;5;241m=\u001b[39m pd\u001b[38;5;241m.\u001b[39mto_datetime(\n\u001b[1;32m      9\u001b[0m     [\u001b[38;5;124m\"\u001b[39m\u001b[38;5;124m1/1/2018\u001b[39m\u001b[38;5;124m\"\u001b[39m, np\u001b[38;5;241m.\u001b[39mdatetime64(\u001b[38;5;124m\"\u001b[39m\u001b[38;5;124m2018-01-01\u001b[39m\u001b[38;5;124m\"\u001b[39m), datetime\u001b[38;5;241m.\u001b[39mdatetime(\u001b[38;5;241m2018\u001b[39m, \u001b[38;5;241m1\u001b[39m, \u001b[38;5;241m1\u001b[39m)]\n\u001b[1;32m     10\u001b[0m )\n",
      "File \u001b[0;32m~/miniforge3/lib/python3.9/site-packages/pandas/core/frame.py:677\u001b[0m, in \u001b[0;36mDataFrame.__init__\u001b[0;34m(self, data, index, columns, dtype, copy)\u001b[0m\n\u001b[1;32m    668\u001b[0m \u001b[38;5;28;01mdef\u001b[39;00m \u001b[38;5;21m__init__\u001b[39m(\n\u001b[1;32m    669\u001b[0m     \u001b[38;5;28mself\u001b[39m,\n\u001b[1;32m    670\u001b[0m     data\u001b[38;5;241m=\u001b[39m\u001b[38;5;28;01mNone\u001b[39;00m,\n\u001b[0;32m   (...)\u001b[0m\n\u001b[1;32m    674\u001b[0m     copy: \u001b[38;5;28mbool\u001b[39m \u001b[38;5;241m|\u001b[39m \u001b[38;5;28;01mNone\u001b[39;00m \u001b[38;5;241m=\u001b[39m \u001b[38;5;28;01mNone\u001b[39;00m,\n\u001b[1;32m    675\u001b[0m ) \u001b[38;5;241m-\u001b[39m\u001b[38;5;241m>\u001b[39m \u001b[38;5;28;01mNone\u001b[39;00m:\n\u001b[1;32m    676\u001b[0m     \u001b[38;5;28;01mif\u001b[39;00m dtype \u001b[38;5;129;01mis\u001b[39;00m \u001b[38;5;129;01mnot\u001b[39;00m \u001b[38;5;28;01mNone\u001b[39;00m:\n\u001b[0;32m--> 677\u001b[0m         dtype \u001b[38;5;241m=\u001b[39m \u001b[38;5;28;43mself\u001b[39;49m\u001b[38;5;241;43m.\u001b[39;49m\u001b[43m_validate_dtype\u001b[49m\u001b[43m(\u001b[49m\u001b[43mdtype\u001b[49m\u001b[43m)\u001b[49m\n\u001b[1;32m    679\u001b[0m     \u001b[38;5;28;01mif\u001b[39;00m \u001b[38;5;28misinstance\u001b[39m(data, DataFrame):\n\u001b[1;32m    680\u001b[0m         data \u001b[38;5;241m=\u001b[39m data\u001b[38;5;241m.\u001b[39m_mgr\n",
      "File \u001b[0;32m~/miniforge3/lib/python3.9/site-packages/pandas/core/generic.py:492\u001b[0m, in \u001b[0;36mNDFrame._validate_dtype\u001b[0;34m(cls, dtype)\u001b[0m\n\u001b[1;32m    490\u001b[0m \u001b[38;5;124;03m\"\"\"validate the passed dtype\"\"\"\u001b[39;00m\n\u001b[1;32m    491\u001b[0m \u001b[38;5;28;01mif\u001b[39;00m dtype \u001b[38;5;129;01mis\u001b[39;00m \u001b[38;5;129;01mnot\u001b[39;00m \u001b[38;5;28;01mNone\u001b[39;00m:\n\u001b[0;32m--> 492\u001b[0m     dtype \u001b[38;5;241m=\u001b[39m \u001b[43mpandas_dtype\u001b[49m\u001b[43m(\u001b[49m\u001b[43mdtype\u001b[49m\u001b[43m)\u001b[49m\n\u001b[1;32m    494\u001b[0m     \u001b[38;5;66;03m# a compound dtype\u001b[39;00m\n\u001b[1;32m    495\u001b[0m     \u001b[38;5;28;01mif\u001b[39;00m dtype\u001b[38;5;241m.\u001b[39mkind \u001b[38;5;241m==\u001b[39m \u001b[38;5;124m\"\u001b[39m\u001b[38;5;124mV\u001b[39m\u001b[38;5;124m\"\u001b[39m:\n",
      "File \u001b[0;32m~/miniforge3/lib/python3.9/site-packages/pandas/core/dtypes/common.py:1636\u001b[0m, in \u001b[0;36mpandas_dtype\u001b[0;34m(dtype)\u001b[0m\n\u001b[1;32m   1631\u001b[0m     \u001b[38;5;28;01mwith\u001b[39;00m warnings\u001b[38;5;241m.\u001b[39mcatch_warnings():\n\u001b[1;32m   1632\u001b[0m         \u001b[38;5;66;03m# GH#51523 - Series.astype(np.integer) doesn't show\u001b[39;00m\n\u001b[1;32m   1633\u001b[0m         \u001b[38;5;66;03m# numpy deprecation warning of np.integer\u001b[39;00m\n\u001b[1;32m   1634\u001b[0m         \u001b[38;5;66;03m# Hence enabling DeprecationWarning\u001b[39;00m\n\u001b[1;32m   1635\u001b[0m         warnings\u001b[38;5;241m.\u001b[39msimplefilter(\u001b[38;5;124m\"\u001b[39m\u001b[38;5;124malways\u001b[39m\u001b[38;5;124m\"\u001b[39m, \u001b[38;5;167;01mDeprecationWarning\u001b[39;00m)\n\u001b[0;32m-> 1636\u001b[0m         npdtype \u001b[38;5;241m=\u001b[39m \u001b[43mnp\u001b[49m\u001b[38;5;241;43m.\u001b[39;49m\u001b[43mdtype\u001b[49m\u001b[43m(\u001b[49m\u001b[43mdtype\u001b[49m\u001b[43m)\u001b[49m\n\u001b[1;32m   1637\u001b[0m \u001b[38;5;28;01mexcept\u001b[39;00m \u001b[38;5;167;01mSyntaxError\u001b[39;00m \u001b[38;5;28;01mas\u001b[39;00m err:\n\u001b[1;32m   1638\u001b[0m     \u001b[38;5;66;03m# np.dtype uses `eval` which can raise SyntaxError\u001b[39;00m\n\u001b[1;32m   1639\u001b[0m     \u001b[38;5;28;01mraise\u001b[39;00m \u001b[38;5;167;01mTypeError\u001b[39;00m(\u001b[38;5;124mf\u001b[39m\u001b[38;5;124m\"\u001b[39m\u001b[38;5;124mdata type \u001b[39m\u001b[38;5;124m'\u001b[39m\u001b[38;5;132;01m{\u001b[39;00mdtype\u001b[38;5;132;01m}\u001b[39;00m\u001b[38;5;124m'\u001b[39m\u001b[38;5;124m not understood\u001b[39m\u001b[38;5;124m\"\u001b[39m) \u001b[38;5;28;01mfrom\u001b[39;00m \u001b[38;5;21;01merr\u001b[39;00m\n",
      "\u001b[0;31mTypeError\u001b[0m: Field elements must be 2- or 3-tuples, got ''float64''"
     ]
    }
   ],
   "source": [
    "import pandas as pd\n",
    "import datetime\n",
    "df = pd.DataFrame({'floa': [1.0],\n",
    "                   'in': [1],\n",
    "                   'datetim': [pd.Timestamp('20180310')],\n",
    "                   'strin': ['foo']}, dtype=[\"float64\", \"int64\", \"datetime64[ns]\", \"string[pyarrow]\"])\n",
    "df\n",
    "dti = pd.to_datetime(\n",
    "    [\"1/1/2018\", np.datetime64(\"2018-01-01\"), datetime.datetime(2018, 1, 1)]\n",
    ")"
   ]
  },
  {
   "cell_type": "code",
   "execution_count": 17,
   "id": "3714f078",
   "metadata": {},
   "outputs": [
    {
     "data": {
      "text/plain": [
       "floa              float64\n",
       "in                  int64\n",
       "datetim    datetime64[ns]\n",
       "strin              object\n",
       "dtype: object"
      ]
     },
     "execution_count": 17,
     "metadata": {},
     "output_type": "execute_result"
    }
   ],
   "source": [
    "df.dtypes"
   ]
  },
  {
   "cell_type": "code",
   "execution_count": null,
   "id": "3992ad34",
   "metadata": {},
   "outputs": [],
   "source": []
  }
 ],
 "metadata": {
  "kernelspec": {
   "display_name": "Python 3 (ipykernel)",
   "language": "python",
   "name": "python3"
  },
  "language_info": {
   "codemirror_mode": {
    "name": "ipython",
    "version": 3
   },
   "file_extension": ".py",
   "mimetype": "text/x-python",
   "name": "python",
   "nbconvert_exporter": "python",
   "pygments_lexer": "ipython3",
   "version": "3.9.18"
  }
 },
 "nbformat": 4,
 "nbformat_minor": 5
}
