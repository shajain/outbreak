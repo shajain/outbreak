{
 "cells": [
  {
   "cell_type": "code",
   "execution_count": 1,
   "id": "282aa4c5",
   "metadata": {},
   "outputs": [],
   "source": [
    "# Import packages and set OPENAI Key access\n",
    "import nltk\n",
    "import json\n",
    "#import langchain as lc\n",
    "from getpass import getpass\n",
    "import os\n",
    "os.chdir('..')\n",
    "from langchain.chat_models import ChatOpenAI\n",
    "#from langchain.chains import create_extraction_chain\n",
    "from langchain.schema import (\n",
    "    AIMessage,\n",
    "    HumanMessage,\n",
    "    SystemMessage\n",
    ")\n",
    "PROMED_DIR = os.path.join('..','WHO_DON','Data','ProMED')\n",
    "WHO_DIR = os.path.join('..','WHO_DON','Data','WHO DON')\n",
    "OPENAI_API_KEY = os.environ['OPENAI_API_KEY']\n",
    "OPENAI_ORGANIZATION = os.environ['OPENAI_ORGANIZATION']\n",
    "chatGPT4 = ChatOpenAI(openai_api_key=OPENAI_API_KEY, openai_organization= OPENAI_ORGANIZATION, temperature=0, model=\"gpt-4\")\n",
    "chatGPT35 = ChatOpenAI(openai_api_key=OPENAI_API_KEY, openai_organization= OPENAI_ORGANIZATION, temperature=0, model=\"gpt-3.5-turbo\")\n"
   ]
  },
  {
   "cell_type": "code",
   "execution_count": 3,
   "id": "ba608592",
   "metadata": {},
   "outputs": [],
   "source": [
    "# Load 1st set of Promed data\n",
    "D1 = json.load(open('../WHO_DON/Data/ProMED/promed_1.json'))"
   ]
  },
  {
   "cell_type": "code",
   "execution_count": null,
   "id": "3b844ae3",
   "metadata": {},
   "outputs": [],
   "source": [
    "# Headers that demonstrate that the extrations can't be made by parsing as the disease outbreak location is not \n",
    "# always at the same position. Need to use LLMs\n",
    "import numpy as np\n",
    "print(D1[0]['header'][0])\n",
    "print(D1[22]['header'][0])\n",
    "print(D1[100]['header'][0])\n",
    "print(D1[25]['header'][0])\n"
   ]
  },
  {
   "cell_type": "code",
   "execution_count": null,
   "id": "3eaab918",
   "metadata": {},
   "outputs": [],
   "source": [
    "# ##Approach 1\n",
    "# from langchain.chat_models import ChatOpenAI\n",
    "# from langchain.chains import create_extraction_chain\n",
    "# schema = {\n",
    "#     \"properties\": {\n",
    "#         \"disease outbreak\": {\"type\": \"string\"},\n",
    "#     },\n",
    "#     \"required\": [\"disease outbreak\"],\n",
    "# }\n",
    "\n",
    "# # Input \n",
    "# inp = \"Published Date: 2018-10-17 08:11:34 EDT Subject: PRO/AH/EDR> Undiagnosed die-off, hare - UK (02): (England) myxomatosis susp Archive Number: 20181017.6096127\"\n",
    "# # Run chain\n",
    "# # Use model=\"gpt-3.5-turbo\" for gpt 3.5. Its cheaper.\n",
    "# llm = ChatOpenAI(openai_api_key=OPENAI_API_KEY, temperature=0, model=\"gpt-4\")\n",
    "# chain = create_extraction_chain(schema, llm)\n",
    "# chain.run(inp)\n",
    "# #Didn't work well"
   ]
  },
  {
   "cell_type": "code",
   "execution_count": null,
   "id": "1d45b514",
   "metadata": {},
   "outputs": [],
   "source": [
    "# ## Example 2\n",
    "# inp = \"Published Date: 2018-09-30 07:04:05 EDT Subject: PRO/EDR> Meningitis, meningococcal - USA (02): (CA) college, sg B Archive Number: 20180930.6061362\"\n",
    "# llm = ChatOpenAI(openai_api_key=OPENAI_API_KEY, temperature=0, model=\"gpt-4\")\n",
    "# chain = create_extraction_chain(schema, llm)\n",
    "# chain.run(inp)"
   ]
  },
  {
   "cell_type": "code",
   "execution_count": null,
   "id": "42bcff4a",
   "metadata": {},
   "outputs": [],
   "source": [
    "# Approach 2\n",
    "inp = \"Published Date: 2018-10-17 08:11:34 EDT Subject: PRO/AH/EDR> Undiagnosed die-off, hare - UK (02): (England) myxomatosis susp Archive Number: 20181017.6096127\"\n",
    "#chat([HumanMessage(content=\"Extract the disease outbreak from the following text. Only output the outbreak name. If the outbreak is known by other names give a comma separated list:\" + D1[25]['header'][0])])\n",
    "chatGPT35([HumanMessage(content=\"Extract the disease outbreak from the following text. \" + \"Only output the outbreak name.\" + inp )])\n",
    "## This approach gives better results"
   ]
  },
  {
   "cell_type": "code",
   "execution_count": null,
   "id": "dd737e2d",
   "metadata": {},
   "outputs": [],
   "source": [
    "# Example 2\n",
    "inp = \"Published Date: 2018-09-30 07:04:05 EDT Subject: PRO/EDR> Meningitis, meningococcal - USA (02): (CA) college, sg B Archive Number: 20180930.6061362\"\n",
    "chatGPT35([HumanMessage(content=\"Extract the disease outbreak from the following text. \" + \"Only output the outbreak name.\" + inp )])"
   ]
  },
  {
   "cell_type": "code",
   "execution_count": null,
   "id": "658a0ead",
   "metadata": {},
   "outputs": [],
   "source": [
    "# To see how good are LLMs for picking alternate names. Maybe not the best example.\n",
    "chat([HumanMessage(content=\"Give alternative names of the following disease outbreak with confidence:\" + \"Sars-CoV-2\")])"
   ]
  },
  {
   "cell_type": "code",
   "execution_count": null,
   "id": "d71f44e4",
   "metadata": {},
   "outputs": [],
   "source": [
    "xdata = np.array([(1, 2, 3), (4, 5, 6), (7, 8, 9)],\n",
    "                dtype=[(\"a\", \"i4\"), (\"b\", \"i4\"), (\"c\", \"i4\")])"
   ]
  },
  {
   "cell_type": "code",
   "execution_count": 8,
   "id": "b4448bc5",
   "metadata": {},
   "outputs": [],
   "source": [
    "import pandas as pd\n",
    "import numpy as np\n",
    "import datetime\n",
    "df = pd.DataFrame({'floa': [np.nan],\n",
    "                   'int': [np.nan],\n",
    "                   'datetime': [pd.Timestamp('20180310')],\n",
    "                   'string': ['foo']})\n",
    "df = df.astype({\"floa\":\"float64\", \"int\":\"Int64\", \"datetime\":\"datetime64[ns]\", \"string\":\"string[pyarrow]\"})\n",
    "dti = pd.to_datetime(\n",
    "    [\"1/1/2018\", np.datetime64(\"2018-01-01\"), datetime.datetime(2018, 1, 1)]\n",
    ")"
   ]
  },
  {
   "cell_type": "code",
   "execution_count": null,
   "id": "4831eb3c",
   "metadata": {},
   "outputs": [],
   "source": [
    "import glob\n",
    "import re\n",
    "glob.glob('../*')\n",
    "min([int(num) for num in re.findall(r'\\d+','HI45_FG5')])"
   ]
  },
  {
   "cell_type": "code",
   "execution_count": null,
   "id": "983016ed",
   "metadata": {},
   "outputs": [],
   "source": [
    "max([1])"
   ]
  },
  {
   "cell_type": "code",
   "execution_count": null,
   "id": "798fe347",
   "metadata": {},
   "outputs": [],
   "source": [
    "[]+[0]"
   ]
  },
  {
   "cell_type": "code",
   "execution_count": 9,
   "id": "97876d74",
   "metadata": {},
   "outputs": [
    {
     "data": {
      "text/html": [
       "<div>\n",
       "<style scoped>\n",
       "    .dataframe tbody tr th:only-of-type {\n",
       "        vertical-align: middle;\n",
       "    }\n",
       "\n",
       "    .dataframe tbody tr th {\n",
       "        vertical-align: top;\n",
       "    }\n",
       "\n",
       "    .dataframe thead th {\n",
       "        text-align: right;\n",
       "    }\n",
       "</style>\n",
       "<table border=\"1\" class=\"dataframe\">\n",
       "  <thead>\n",
       "    <tr style=\"text-align: right;\">\n",
       "      <th></th>\n",
       "      <th>floa</th>\n",
       "      <th>int</th>\n",
       "      <th>datetime</th>\n",
       "      <th>string</th>\n",
       "    </tr>\n",
       "  </thead>\n",
       "  <tbody>\n",
       "    <tr>\n",
       "      <th>0</th>\n",
       "      <td>NaN</td>\n",
       "      <td>&lt;NA&gt;</td>\n",
       "      <td>2018-03-10</td>\n",
       "      <td>foo</td>\n",
       "    </tr>\n",
       "  </tbody>\n",
       "</table>\n",
       "</div>"
      ],
      "text/plain": [
       "   floa   int   datetime string\n",
       "0   NaN  <NA> 2018-03-10    foo"
      ]
     },
     "execution_count": 9,
     "metadata": {},
     "output_type": "execute_result"
    }
   ],
   "source": [
    "df"
   ]
  },
  {
   "cell_type": "code",
   "execution_count": null,
   "id": "edf38b5d",
   "metadata": {},
   "outputs": [],
   "source": [
    "np.where(['floa' not in df.columns,'float' not in df.columns ])[0]"
   ]
  },
  {
   "cell_type": "code",
   "execution_count": null,
   "id": "efc50b23",
   "metadata": {},
   "outputs": [],
   "source": [
    "from data.promed import ProMed"
   ]
  },
  {
   "cell_type": "code",
   "execution_count": 4,
   "id": "52468e5d",
   "metadata": {},
   "outputs": [],
   "source": [
    "from data.promed import ProMed\n",
    "PM = ProMed(PROMED_DIR)"
   ]
  },
  {
   "cell_type": "code",
   "execution_count": null,
   "id": "b807e963",
   "metadata": {},
   "outputs": [],
   "source": [
    "import glob\n",
    "glob.glob('../*')"
   ]
  },
  {
   "cell_type": "code",
   "execution_count": null,
   "id": "80c41a5b",
   "metadata": {},
   "outputs": [],
   "source": [
    "PROMED_DIR = os.path.join('..','WHO_DON','Data','ProMED')"
   ]
  },
  {
   "cell_type": "code",
   "execution_count": null,
   "id": "e70437af",
   "metadata": {},
   "outputs": [],
   "source": [
    "PROMED_DIR\n"
   ]
  },
  {
   "cell_type": "code",
   "execution_count": null,
   "id": "94184ed8",
   "metadata": {},
   "outputs": [],
   "source": [
    "import numpy as np\n",
    "import pandas as pd\n",
    "aa = np.array([\"1bc\", \"defd\", \"eeeeeeeee\"])\n",
    "df = pd.DataFrame(aa)\n",
    "#np.array([1,23,4], dtype='object')"
   ]
  },
  {
   "cell_type": "code",
   "execution_count": null,
   "id": "0a086f4e",
   "metadata": {},
   "outputs": [],
   "source": [
    "df.dtypes\n"
   ]
  },
  {
   "cell_type": "code",
   "execution_count": null,
   "id": "fa458bae",
   "metadata": {},
   "outputs": [],
   "source": [
    "aa"
   ]
  },
  {
   "cell_type": "code",
   "execution_count": 5,
   "id": "0a7aff24",
   "metadata": {},
   "outputs": [
    {
     "data": {
      "text/html": [
       "<div>\n",
       "<style scoped>\n",
       "    .dataframe tbody tr th:only-of-type {\n",
       "        vertical-align: middle;\n",
       "    }\n",
       "\n",
       "    .dataframe tbody tr th {\n",
       "        vertical-align: top;\n",
       "    }\n",
       "\n",
       "    .dataframe thead th {\n",
       "        text-align: right;\n",
       "    }\n",
       "</style>\n",
       "<table border=\"1\" class=\"dataframe\">\n",
       "  <thead>\n",
       "    <tr style=\"text-align: right;\">\n",
       "      <th></th>\n",
       "      <th>ID</th>\n",
       "      <th>outbreakName</th>\n",
       "      <th>outbreakNameStd</th>\n",
       "      <th>countries</th>\n",
       "      <th>states</th>\n",
       "      <th>datePublished</th>\n",
       "    </tr>\n",
       "  </thead>\n",
       "  <tbody>\n",
       "    <tr>\n",
       "      <th>0</th>\n",
       "      <td>0</td>\n",
       "      <td>None</td>\n",
       "      <td>None</td>\n",
       "      <td>None</td>\n",
       "      <td>None</td>\n",
       "      <td>None</td>\n",
       "    </tr>\n",
       "    <tr>\n",
       "      <th>1</th>\n",
       "      <td>1</td>\n",
       "      <td>None</td>\n",
       "      <td>None</td>\n",
       "      <td>None</td>\n",
       "      <td>None</td>\n",
       "      <td>None</td>\n",
       "    </tr>\n",
       "    <tr>\n",
       "      <th>2</th>\n",
       "      <td>2</td>\n",
       "      <td>None</td>\n",
       "      <td>None</td>\n",
       "      <td>None</td>\n",
       "      <td>None</td>\n",
       "      <td>None</td>\n",
       "    </tr>\n",
       "    <tr>\n",
       "      <th>3</th>\n",
       "      <td>3</td>\n",
       "      <td>None</td>\n",
       "      <td>None</td>\n",
       "      <td>None</td>\n",
       "      <td>None</td>\n",
       "      <td>None</td>\n",
       "    </tr>\n",
       "    <tr>\n",
       "      <th>4</th>\n",
       "      <td>4</td>\n",
       "      <td>None</td>\n",
       "      <td>None</td>\n",
       "      <td>None</td>\n",
       "      <td>None</td>\n",
       "      <td>None</td>\n",
       "    </tr>\n",
       "    <tr>\n",
       "      <th>...</th>\n",
       "      <td>...</td>\n",
       "      <td>...</td>\n",
       "      <td>...</td>\n",
       "      <td>...</td>\n",
       "      <td>...</td>\n",
       "      <td>...</td>\n",
       "    </tr>\n",
       "    <tr>\n",
       "      <th>64539</th>\n",
       "      <td>64539</td>\n",
       "      <td>None</td>\n",
       "      <td>None</td>\n",
       "      <td>None</td>\n",
       "      <td>None</td>\n",
       "      <td>None</td>\n",
       "    </tr>\n",
       "    <tr>\n",
       "      <th>64540</th>\n",
       "      <td>64540</td>\n",
       "      <td>None</td>\n",
       "      <td>None</td>\n",
       "      <td>None</td>\n",
       "      <td>None</td>\n",
       "      <td>None</td>\n",
       "    </tr>\n",
       "    <tr>\n",
       "      <th>64541</th>\n",
       "      <td>64541</td>\n",
       "      <td>None</td>\n",
       "      <td>None</td>\n",
       "      <td>None</td>\n",
       "      <td>None</td>\n",
       "      <td>None</td>\n",
       "    </tr>\n",
       "    <tr>\n",
       "      <th>64542</th>\n",
       "      <td>64542</td>\n",
       "      <td>None</td>\n",
       "      <td>None</td>\n",
       "      <td>None</td>\n",
       "      <td>None</td>\n",
       "      <td>None</td>\n",
       "    </tr>\n",
       "    <tr>\n",
       "      <th>64543</th>\n",
       "      <td>64543</td>\n",
       "      <td>None</td>\n",
       "      <td>None</td>\n",
       "      <td>None</td>\n",
       "      <td>None</td>\n",
       "      <td>None</td>\n",
       "    </tr>\n",
       "  </tbody>\n",
       "</table>\n",
       "<p>64544 rows × 6 columns</p>\n",
       "</div>"
      ],
      "text/plain": [
       "          ID outbreakName outbreakNameStd countries states datePublished\n",
       "0          0         None            None      None   None          None\n",
       "1          1         None            None      None   None          None\n",
       "2          2         None            None      None   None          None\n",
       "3          3         None            None      None   None          None\n",
       "4          4         None            None      None   None          None\n",
       "...      ...          ...             ...       ...    ...           ...\n",
       "64539  64539         None            None      None   None          None\n",
       "64540  64540         None            None      None   None          None\n",
       "64541  64541         None            None      None   None          None\n",
       "64542  64542         None            None      None   None          None\n",
       "64543  64543         None            None      None   None          None\n",
       "\n",
       "[64544 rows x 6 columns]"
      ]
     },
     "execution_count": 5,
     "metadata": {},
     "output_type": "execute_result"
    }
   ],
   "source": [
    "PM.df"
   ]
  },
  {
   "cell_type": "code",
   "execution_count": 4,
   "id": "0f382020",
   "metadata": {},
   "outputs": [
    {
     "data": {
      "text/plain": [
       "[None, None, None, None, None, None, None, None, None]"
      ]
     },
     "execution_count": 4,
     "metadata": {},
     "output_type": "execute_result"
    }
   ],
   "source": [
    "[None]*9"
   ]
  },
  {
   "cell_type": "code",
   "execution_count": null,
   "id": "2c4c7614",
   "metadata": {},
   "outputs": [],
   "source": []
  }
 ],
 "metadata": {
  "kernelspec": {
   "display_name": "Python 3 (ipykernel)",
   "language": "python",
   "name": "python3"
  },
  "language_info": {
   "codemirror_mode": {
    "name": "ipython",
    "version": 3
   },
   "file_extension": ".py",
   "mimetype": "text/x-python",
   "name": "python",
   "nbconvert_exporter": "python",
   "pygments_lexer": "ipython3",
   "version": "3.9.18"
  }
 },
 "nbformat": 4,
 "nbformat_minor": 5
}
