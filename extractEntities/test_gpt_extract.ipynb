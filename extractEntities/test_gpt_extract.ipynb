{
 "cells": [
  {
   "cell_type": "code",
   "execution_count": 1,
   "metadata": {},
   "outputs": [],
   "source": [
    "import os\n",
    "import openai\n",
    "openai.organization = os.getenv(\"OPENAI_ORG_ID\")\n",
    "openai.api_key = os.getenv(\"OPENAI_API_KEY\")\n"
   ]
  },
  {
   "cell_type": "code",
   "execution_count": 2,
   "metadata": {},
   "outputs": [],
   "source": [
    "import pandas as pd\n",
    "\n",
    "#Allows for viewing large data. Can be a boon when data is too large\n",
    "pd.set_option('display.max_columns', None)  # or 1000\n",
    "pd.set_option('display.max_rows', None)  # or 1000\n",
    "pd.set_option('display.max_colwidth', None)  # or 199"
   ]
  },
  {
   "cell_type": "code",
   "execution_count": 3,
   "metadata": {},
   "outputs": [],
   "source": [
    "#Import promed dataset and convert it to string\n",
    "promed = pd.read_json(\"promed_1.json\")\n",
    "promed['header'] = promed['header'].astype(str)"
   ]
  },
  {
   "cell_type": "code",
   "execution_count": 10,
   "metadata": {},
   "outputs": [
    {
     "data": {
      "text/plain": [
       "<OpenAIObject chat.completion id=chatcmpl-8DZhDWmtuiBRi4X4WHuh93dlwFOd2 at 0x19267f7deb0> JSON: {\n",
       "  \"id\": \"chatcmpl-8DZhDWmtuiBRi4X4WHuh93dlwFOd2\",\n",
       "  \"object\": \"chat.completion\",\n",
       "  \"created\": 1698246171,\n",
       "  \"model\": \"gpt-3.5-turbo-0613\",\n",
       "  \"choices\": [\n",
       "    {\n",
       "      \"index\": 0,\n",
       "      \"message\": {\n",
       "        \"role\": \"assistant\",\n",
       "        \"content\": \"disease outbreak name;country name\\nAvian influenza;Kuwait, Myanmar\\nTularemia;Taiwan\\nAmerican foulbrood, apis;Fiji\\nCOVID-19;USA\\nLumpy skin disease;Bulgaria\\nAvian cholera;USA\\nNorovirus;Spain\\nFoot & mouth disease, bovine;South Korea\\nCharcoal rot, soybean;USA\\nDengue;USA\"\n",
       "      },\n",
       "      \"finish_reason\": \"stop\"\n",
       "    }\n",
       "  ],\n",
       "  \"usage\": {\n",
       "    \"prompt_tokens\": 650,\n",
       "    \"completion_tokens\": 89,\n",
       "    \"total_tokens\": 739\n",
       "  }\n",
       "}"
      ]
     },
     "execution_count": 10,
     "metadata": {},
     "output_type": "execute_result"
    }
   ],
   "source": [
    "#GPT3.5\n",
    "# Input command is quite long. GPT3.5 tends to not follow all instructions as the number of intructions keep increasing. \n",
    "# Testing on first 10 rows.\n",
    "response = openai.ChatCompletion.create(\n",
    "    model=\"gpt-3.5-turbo\",\n",
    "    messages=[\n",
    "        {\"role\": \"system\", \"content\": \"You will be provided with unstructured data, and your task is to parse it into CSV format. The columns are disease outbreak name and country name. The values for each column must be separated by a semicolon. The values for each row must begin on a new line. The value for country must be only the name of the country and no other characters are permitted. The value for disease must be only the name of the disease and no other characters are permitted\"},\n",
    "        {\"role\": \"user\", \"content\": promed['header'].head(10).to_string()}\n",
    "    ]\n",
    ")"
   ]
  },
  {
   "cell_type": "code",
   "execution_count": 33,
   "metadata": {},
   "outputs": [
    {
     "name": "stdout",
     "output_type": "stream",
     "text": [
      "[['disease outbreak name', 'country name'], ['Avian influenza', 'Kuwait, Myanmar'], ['Tularemia', 'Taiwan'], ['American foulbrood, apis', 'Fiji'], ['COVID-19', 'USA'], ['Lumpy skin disease', 'Bulgaria'], ['Avian cholera', 'USA'], ['Norovirus', 'Spain'], ['Foot & mouth disease, bovine', 'South Korea'], ['Charcoal rot, soybean', 'USA'], ['Dengue', 'USA']]\n",
      "['Avian influenza', 'Kuwait, Myanmar']\n",
      "Kuwait, Myanmar\n"
     ]
    }
   ],
   "source": [
    "# Extracting the output from GPT response and formatting it for ease of use.\n",
    "\n",
    "# response.choices[0].message.content.split('\\n')\n",
    "# response.choices[0].message.content.split('\\n')[1]\n",
    "\n",
    "r=response.choices[0].message.content.split('\\n')\n",
    "pro = list(map(lambda x: x.split(';'), r))\n",
    "\n",
    "print(pro)\n",
    "print(pro[1])\n",
    "print(pro[1][1])"
   ]
  },
  {
   "cell_type": "code",
   "execution_count": 44,
   "metadata": {},
   "outputs": [
    {
     "name": "stdout",
     "output_type": "stream",
     "text": [
      "[['disease outbreak name', 'country name'], ['Avian influenza', 'USA'], ['Ebola', 'Congo DR'], ['Jaundice', 'Bangladesh'], ['Cholera', 'South Sudan'], ['Ricin', 'USA'], ['Rift Valley fever', 'Mauritania'], ['Herpes B virus infection', 'USA'], ['West Nile virus', 'USA'], ['E. coli EHEC', 'Australia'], ['BSE', 'USA']]\n",
      "['Avian influenza', 'USA']\n",
      "USA\n"
     ]
    }
   ],
   "source": [
    "#GPT3.5\n",
    "# Testing on last 10 rows.\n",
    "response = openai.ChatCompletion.create(\n",
    "    model=\"gpt-3.5-turbo\",\n",
    "    messages=[\n",
    "        {\"role\": \"system\", \"content\": \"You will be provided with unstructured data, and your task is to parse it into CSV format. The columns are disease outbreak name and country name. The values for each column must be separated by a semicolon. The values for each row must begin on a new line. The value for country must be only the name of the country and no other characters are permitted. The value for disease must be only the name of the disease and no other characters are permitted\"},\n",
    "        {\"role\": \"user\", \"content\": promed['header'].tail(10).to_string()}\n",
    "    ]\n",
    ")\n",
    "\n",
    "r=response.choices[0].message.content.split('\\n')\n",
    "pro = list(map(lambda x: x.split(';'), r))\n",
    "\n",
    "print(pro)\n",
    "print(pro[1])\n",
    "print(pro[1][1])"
   ]
  },
  {
   "cell_type": "code",
   "execution_count": 53,
   "metadata": {},
   "outputs": [
    {
     "name": "stdout",
     "output_type": "stream",
     "text": [
      "[['disease outbreak name', 'country name'], ['Late blight, potato', 'Papua New Guinea'], ['Vesicular stomatitis', 'USA'], ['E. coli EHEC', 'USA'], ['E. coli O157', 'USA'], ['Cholera, diarrhea & dysentery update', 'USA'], ['Hantavirus update 2011 - Americas', 'Chile'], ['Drugs, fish, contaminated waterways', 'USA'], ['Anthrax, human, equine', 'Kyrgyzstan'], ['Cryptosporidiosis', 'Sweden'], ['Meningitis advisory', 'Burundi & Congo, Dem.Rep.']]\n",
      "['Late blight, potato', 'Papua New Guinea']\n",
      "Papua New Guinea\n"
     ]
    }
   ],
   "source": [
    "#GPT3.5\n",
    "# Testing on rows 50-60.\n",
    "# Repeatedly running this instruction can sometimes lead to different results.\n",
    "# Especially if you run it on a single row at a time.\n",
    "\n",
    "# Results are not as expected. Countries are extracted properly and disease names aren't extracted very well.\n",
    "\n",
    "response = openai.ChatCompletion.create(\n",
    "    model=\"gpt-3.5-turbo\",\n",
    "    messages=[\n",
    "        {\"role\": \"system\", \"content\": \"You will be provided with unstructured data, and your task is to parse it into CSV format. The columns are disease outbreak name and country name. The values for each column must be separated by a semicolon. The values for each row must begin on a new line. The value for country must be only the name of the country and no other characters are permitted. The value for disease must be only contain the name of the disease and no other characters are permitted\"},\n",
    "        {\"role\": \"user\", \"content\": promed['header'][50:60].to_string()}\n",
    "    ]\n",
    ")\n",
    "\n",
    "r=response.choices[0].message.content.split('\\n')\n",
    "pro = list(map(lambda x: x.split(';'), r))\n",
    "\n",
    "print(pro)\n",
    "print(pro[1])\n",
    "print(pro[1][1])"
   ]
  },
  {
   "cell_type": "code",
   "execution_count": 54,
   "metadata": {},
   "outputs": [
    {
     "data": {
      "text/plain": [
       "[['disease outbreak name', 'country name'],\n",
       " ['Late blight, potato', 'Papua New Guinea'],\n",
       " ['Vesicular stomatitis', 'USA'],\n",
       " ['E. coli EHEC', 'USA'],\n",
       " ['E. coli O157', 'USA'],\n",
       " ['Cholera, diarrhea & dysentery update', 'USA'],\n",
       " ['Hantavirus update 2011 - Americas', 'Chile'],\n",
       " ['Drugs, fish, contaminated waterways', 'USA'],\n",
       " ['Anthrax, human, equine', 'Kyrgyzstan'],\n",
       " ['Cryptosporidiosis', 'Sweden'],\n",
       " ['Meningitis advisory', 'Burundi & Congo, Dem.Rep.']]"
      ]
     },
     "execution_count": 54,
     "metadata": {},
     "output_type": "execute_result"
    }
   ],
   "source": [
    "#GPT3.5\n",
    "# Tested on rows 50-60.\n",
    "# Repeatedly running the previous cell led to erreneous results.\n",
    "# Extracted country where there was nothing to extract. Fifth entry \n",
    "\n",
    "pro"
   ]
  },
  {
   "cell_type": "code",
   "execution_count": 66,
   "metadata": {},
   "outputs": [
    {
     "data": {
      "text/plain": [
       "'disease;country\\nLate blight, potato;Papua New Guinea\\nVesicular stomatitis;USA\\nE. coli EHEC;USA\\nE. coli O157;USA\\nCholera, diarrhea & dysentery update;unknown\\nHantavirus update;unknown\\nDrugs, fish, contaminated waterways;USA\\nAnthrax, human, equine;Kyrgyzstan\\nCryptosporidiosis;Sweden\\nMeningitis advisory;Burundi & Congo, Dem.Rep.'"
      ]
     },
     "execution_count": 66,
     "metadata": {},
     "output_type": "execute_result"
    }
   ],
   "source": [
    "#GPT3.5\n",
    "# Testing on rows 50-60.\n",
    "# Repeatedly running this instruction can sometimes lead to different results.\n",
    "# Input command was modified to ask to rewrite country name\n",
    "\n",
    "# Results are not as expected. Countries are rewritten properly and disease names aren't extracted very well.\n",
    "\n",
    "response = openai.ChatCompletion.create(\n",
    "    model=\"gpt-3.5-turbo\",\n",
    "    messages=[\n",
    "        {\"role\": \"system\", \"content\": \"You will be provided with unstructured data, and your task is to extract only the disease name and the name of the country in a CSV format. The disease name should be only the medical name of all the diseases mentioned and return no extra data. The country name should be rewritten with the full name of the country with no acronyms and no extra data. The values for each column must be separated by a semicolon. The values for each row must begin on a new line.\"},\n",
    "        {\"role\": \"user\", \"content\": promed['header'][50:60].to_string()}\n",
    "    ]\n",
    ")\n",
    "r=response.choices[0].message.content\n",
    "\n"
   ]
  },
  {
   "cell_type": "code",
   "execution_count": 67,
   "metadata": {},
   "outputs": [
    {
     "data": {
      "text/plain": [
       "['disease;country',\n",
       " 'Late blight, potato;Papua New Guinea',\n",
       " 'Vesicular stomatitis;USA',\n",
       " 'E. coli EHEC;USA',\n",
       " 'E. coli O157;USA',\n",
       " 'Cholera, diarrhea & dysentery update;unknown',\n",
       " 'Hantavirus update;unknown',\n",
       " 'Drugs, fish, contaminated waterways;USA',\n",
       " 'Anthrax, human, equine;Kyrgyzstan',\n",
       " 'Cryptosporidiosis;Sweden',\n",
       " 'Meningitis advisory;Burundi & Congo, Dem.Rep.']"
      ]
     },
     "execution_count": 67,
     "metadata": {},
     "output_type": "execute_result"
    }
   ],
   "source": [
    "#GPT3.5\n",
    "# Tested on rows 50-60.\n",
    "# Repeatedly running the previous cell led to erreneous results.\n",
    "# Extracted nothing where there was a country to extract. Sixth entry \n",
    "r.split('\\n')"
   ]
  },
  {
   "cell_type": "code",
   "execution_count": 69,
   "metadata": {},
   "outputs": [
    {
     "data": {
      "text/plain": [
       "['Disease: Late blight, potato',\n",
       " 'Country: Papua New Guinea',\n",
       " '',\n",
       " 'Disease: Vesicular stomatitis',\n",
       " 'Country: USA',\n",
       " '',\n",
       " 'Disease: E. coli EHEC',\n",
       " 'Country: USA',\n",
       " '',\n",
       " 'Disease: E. coli O157',\n",
       " 'Country: USA',\n",
       " '',\n",
       " 'Disease: Cholera, diarrhea & dysentery',\n",
       " 'Country: Not mentioned',\n",
       " '',\n",
       " 'Disease: Hantavirus',\n",
       " 'Country: Americas',\n",
       " '',\n",
       " 'Disease: Drugs, fish, contaminated waterways',\n",
       " 'Country: USA',\n",
       " '',\n",
       " 'Disease: Anthrax, human, equine',\n",
       " 'Country: Kyrgyzstan',\n",
       " '',\n",
       " 'Disease: Cryptosporidiosis',\n",
       " 'Country: Sweden',\n",
       " '',\n",
       " 'Disease: Meningitis advisory',\n",
       " 'Country: Burundi & Congo, Dem.Rep.']"
      ]
     },
     "execution_count": 69,
     "metadata": {},
     "output_type": "execute_result"
    }
   ],
   "source": [
    "#GPT3.5\n",
    "# Testing on rows 50-60.\n",
    "# Input command was modified to ask to rewrite country name and not format as CSV\n",
    "\n",
    "# Results are not as expected. Countries are rewritten or extracted properly and disease names aren't extracted very well.\n",
    "\n",
    "response = openai.ChatCompletion.create(\n",
    "    model=\"gpt-3.5-turbo\",\n",
    "    messages=[\n",
    "        {\"role\": \"system\", \"content\": \"You will be provided with unstructured data, and your task is to extract only the disease name and the name of the country. The disease name should be only the medical name of all the diseases and return no extra data. The country name should be rewritten with the full name of the country with no acronyms and no extra data.\"},\n",
    "        {\"role\": \"user\", \"content\": promed['header'][50:60].to_string()}\n",
    "    ]\n",
    ")\n",
    "r=response.choices[0].message.content.split('\\n')\n",
    "r"
   ]
  },
  {
   "cell_type": "code",
   "execution_count": 59,
   "metadata": {},
   "outputs": [
    {
     "data": {
      "text/plain": [
       "\"['Published Date: 2007-05-11 11:00:02 EDT\\\\nSubject: PRO/EDR> Cholera, diarrhea & dysentery update 2007 (20)\\\\nArchive Number: 20070511.1509']\""
      ]
     },
     "execution_count": 59,
     "metadata": {},
     "output_type": "execute_result"
    }
   ],
   "source": [
    "promed['header'][54]"
   ]
  },
  {
   "cell_type": "code",
   "execution_count": 81,
   "metadata": {},
   "outputs": [
    {
     "data": {
      "text/plain": [
       "['Disease Name: Meningitis',\n",
       " 'Country Name: Burundi, Democratic Republic of Congo']"
      ]
     },
     "execution_count": 81,
     "metadata": {},
     "output_type": "execute_result"
    }
   ],
   "source": [
    "#GPT4\n",
    "# Testing on rows 59\n",
    "# Works really well\n",
    "\n",
    "response = openai.ChatCompletion.create(\n",
    "    model=\"gpt-4\",\n",
    "    messages=[\n",
    "        {\"role\": \"system\", \"content\": \"You will be provided with unstructured data, and your task is to extract only the disease name and the name of the country. The disease name should contain only the medical name of all the diseases and return no extra data. The country name should be rewritten with the full name of the country with no acronyms and no extra data.\"},\n",
    "        {\"role\": \"user\", \"content\": promed['header'][59]}\n",
    "    ]\n",
    ")\n",
    "r=response.choices[0].message.content.split('\\n')\n",
    "r"
   ]
  },
  {
   "cell_type": "code",
   "execution_count": 82,
   "metadata": {},
   "outputs": [
    {
     "data": {
      "text/plain": [
       "['1. Disease: Late blight, potato; Country: Papua New Guinea',\n",
       " '2. Disease: Vesicular stomatitis; Country: United States of America',\n",
       " '3. Disease: E. coli EHEC; Country: United States of America',\n",
       " '4. Disease: E. coli O157; Country: United States of America',\n",
       " '5. Disease: Cholera, diarrhea & dysentery; Country: No specific country mentioned',\n",
       " '6. Disease: Hantavirus; Countries: Chile, United States of America',\n",
       " \"7. Not a disease, it's about Drugs, fish, contaminated waterways; Country: United States of America\",\n",
       " '8. Disease: Anthrax, human, equine; Country: Kyrgyzstan',\n",
       " '9. Disease: Cryptosporidiosis; Country: Sweden',\n",
       " '10. Disease: Meningitis; Countries: Burundi, Democratic Republic of Congo']"
      ]
     },
     "execution_count": 82,
     "metadata": {},
     "output_type": "execute_result"
    }
   ],
   "source": [
    "#GPT4\n",
    "# Testing on rows 50-60\n",
    "# Continues to work really well\n",
    "# Input command doesn't ask to parse into CSV format\n",
    "\n",
    "response = openai.ChatCompletion.create(\n",
    "    model=\"gpt-4\",\n",
    "    messages=[\n",
    "        {\"role\": \"system\", \"content\": \"You will be provided with unstructured data, and your task is to extract only the disease name and the name of the country. The disease name should contain only the medical name of all the diseases and return no extra data. The country name should be rewritten with the full name of the country with no acronyms and no extra data.\"},\n",
    "        {\"role\": \"user\", \"content\": promed['header'][50:60].to_string()}\n",
    "    ]\n",
    ")\n",
    "r=response.choices[0].message.content.split('\\n')\n",
    "r"
   ]
  },
  {
   "cell_type": "code",
   "execution_count": 83,
   "metadata": {},
   "outputs": [
    {
     "data": {
      "text/plain": [
       "['\"Late blight, potato\",\"Papua New Guinea\"',\n",
       " '\"Vesicular stomatitis\",\"United States of America\"',\n",
       " '\"E. coli EHEC\",\"United States of America\"',\n",
       " '\"E. coli O157\",\"United States of America\"',\n",
       " '\"Cholera\",\"No country information\"',\n",
       " '\"Hantavirus\",\"Chile, United States of America\"',\n",
       " '\"Drugs, fish, contaminated waterways\",\"United States of America\"',\n",
       " '\"Anthrax, human, equine\",\"Kyrgyzstan\"',\n",
       " '\"Cryptosporidiosis\",\"Sweden\"',\n",
       " '\"Meningitis advisory\",\"Burundi, Democratic Republic of the Congo\"']"
      ]
     },
     "execution_count": 83,
     "metadata": {},
     "output_type": "execute_result"
    }
   ],
   "source": [
    "#GPT4\n",
    "# Testing on rows 50-60\n",
    "# Continues to work really well\n",
    "# Input command asks to parse into CSV format to reduce number of token used.\n",
    "\n",
    "response = openai.ChatCompletion.create(\n",
    "    model=\"gpt-4\",\n",
    "    messages=[\n",
    "        {\"role\": \"system\", \"content\": \"You will be provided with unstructured data, and your task is to extract only the disease name and the name of the country in a CSV format. The disease name should contain only the medical name of all the diseases and return no extra data. The country name should be rewritten with the full name of the country with no acronyms and no extra data.\"},\n",
    "        {\"role\": \"user\", \"content\": promed['header'][50:60].to_string()}\n",
    "    ]\n",
    ")\n",
    "r=response.choices[0].message.content.split('\\n')\n",
    "r"
   ]
  },
  {
   "cell_type": "code",
   "execution_count": 84,
   "metadata": {},
   "outputs": [
    {
     "data": {
      "text/plain": [
       "\"['Published Date: 2009-04-01 18:00:52 EDT\\\\nSubject: PRO/AH/EDR> Drugs, fish, contaminated waterways - USA (02)\\\\nArchive Number: 20090401.1256']\""
      ]
     },
     "execution_count": 84,
     "metadata": {},
     "output_type": "execute_result"
    }
   ],
   "source": [
    "promed['header'][56]"
   ]
  }
 ],
 "metadata": {
  "kernelspec": {
   "display_name": "base",
   "language": "python",
   "name": "python3"
  },
  "language_info": {
   "codemirror_mode": {
    "name": "ipython",
    "version": 3
   },
   "file_extension": ".py",
   "mimetype": "text/x-python",
   "name": "python",
   "nbconvert_exporter": "python",
   "pygments_lexer": "ipython3",
   "version": "3.11.4"
  }
 },
 "nbformat": 4,
 "nbformat_minor": 2
}
